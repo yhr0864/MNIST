{
 "cells": [
  {
   "cell_type": "code",
   "execution_count": 3,
   "metadata": {},
   "outputs": [],
   "source": [
    "import torch\n",
    "import cv2\n",
    "import random\n",
    "import torch.nn as nn\n",
    "import numpy as np\n",
    "from tqdm import tqdm\n",
    "from torch.utils.data import DataLoader\n",
    "from torch.optim import Adam\n",
    "from torch.utils.tensorboard import SummaryWriter\n",
    "from torch.nn import functional as F\n",
    "from torchvision.transforms import transforms as T\n",
    "\n",
    "from model.mydataset import Data \n",
    "from model.CNN import CNN"
   ]
  },
  {
   "cell_type": "code",
   "execution_count": 5,
   "metadata": {},
   "outputs": [
    {
     "name": "stderr",
     "output_type": "stream",
     "text": [
      "\r",
      "  0%|                                                 | 0/1500 [00:00<?, ?it/s]"
     ]
    },
    {
     "name": "stdout",
     "output_type": "stream",
     "text": [
      "train epoch: 0, iter: 0, loss: 2.306013345718384\n",
      "train epoch: 0, iter: 100, loss: 2.2748796939849854\n",
      "train epoch: 0, iter: 200, loss: 2.1968190670013428\n",
      "train epoch: 0, iter: 300, loss: 2.1177895069122314\n",
      "train epoch: 0, iter: 400, loss: 1.9602988958358765\n",
      "train epoch: 0, iter: 500, loss: 1.7475411891937256\n",
      "train epoch: 0, iter: 600, loss: 1.613237738609314\n",
      "train epoch: 0, iter: 700, loss: 1.4659059047698975\n",
      "train epoch: 0, iter: 800, loss: 1.0787816047668457\n",
      "train epoch: 0, iter: 900, loss: 1.1134437322616577\n",
      "train epoch: 0, iter: 1000, loss: 0.9029145240783691\n",
      "train epoch: 0, iter: 1100, loss: 0.7268897294998169\n",
      "train epoch: 0, iter: 1200, loss: 0.7473195195198059\n",
      "train epoch: 0, iter: 1300, loss: 0.7873213887214661\n",
      "train epoch: 0, iter: 1400, loss: 0.5558515191078186\n"
     ]
    },
    {
     "name": "stderr",
     "output_type": "stream",
     "text": [
      "  0%|                                                 | 0/1500 [00:22<?, ?it/s]\n",
      "  0%|                                                  | 0/375 [00:05<?, ?it/s]\n",
      "  0%|                                                 | 0/1500 [00:00<?, ?it/s]"
     ]
    },
    {
     "name": "stdout",
     "output_type": "stream",
     "text": [
      "test loss: 0.6103056445916494, accuracy: 86.625\n",
      "train epoch: 1, iter: 0, loss: 0.5356987118721008\n",
      "train epoch: 1, iter: 100, loss: 0.568278968334198\n",
      "train epoch: 1, iter: 200, loss: 0.7337320446968079\n",
      "train epoch: 1, iter: 300, loss: 0.6264484524726868\n",
      "train epoch: 1, iter: 400, loss: 0.6769577264785767\n",
      "train epoch: 1, iter: 500, loss: 0.423299103975296\n",
      "train epoch: 1, iter: 600, loss: 0.4855916500091553\n",
      "train epoch: 1, iter: 700, loss: 0.5416527986526489\n",
      "train epoch: 1, iter: 800, loss: 0.27506017684936523\n",
      "train epoch: 1, iter: 900, loss: 0.4512093663215637\n",
      "train epoch: 1, iter: 1000, loss: 0.25593101978302\n",
      "train epoch: 1, iter: 1100, loss: 0.25756993889808655\n",
      "train epoch: 1, iter: 1200, loss: 0.5692574381828308\n",
      "train epoch: 1, iter: 1300, loss: 0.43279746174812317\n",
      "train epoch: 1, iter: 1400, loss: 0.2554580867290497\n"
     ]
    },
    {
     "name": "stderr",
     "output_type": "stream",
     "text": [
      "  0%|                                                 | 0/1500 [00:21<?, ?it/s]\n",
      "  0%|                                                  | 0/375 [00:05<?, ?it/s]"
     ]
    },
    {
     "name": "stdout",
     "output_type": "stream",
     "text": [
      "test loss: 0.35747007650136947, accuracy: 90.36666666666666\n"
     ]
    },
    {
     "name": "stderr",
     "output_type": "stream",
     "text": [
      "\n"
     ]
    }
   ],
   "source": [
    "\n",
    "\n",
    "device = torch.device('cuda') if torch.cuda.is_available() else torch.device('cpu')\n",
    "epochs = 2\n",
    "\n",
    "datapath = r'C:\\Users\\Myth\\Desktop\\PYTHON\\netwerk\\MNIST\\Image\\imgs_train\\train.txt'\n",
    "\n",
    "\n",
    "train_data=Data(datatxt=datapath, transform=T.ToTensor())\n",
    "\n",
    "len_train = int(0.8 * len(train_data))\n",
    "len_val = len(train_data) - len_train\n",
    "\n",
    "train_set, val_set = torch.utils.data.random_split(train_data, [len_train, len_val])\n",
    "\n",
    "train_loader = DataLoader(train_set, batch_size=32, shuffle=True)\n",
    "val_loader = DataLoader(val_set, batch_size=32, shuffle=True)\n",
    "\n",
    "model = CNN().to(device)\n",
    "\n",
    "optimizer = Adam(model.parameters(), lr=1e-5)\n",
    "\n",
    "for epoch in range(epochs):\n",
    "\n",
    "\n",
    "    # Training\n",
    "    with tqdm(total=len(train_loader)) as train_bar:\n",
    "        for i, data in enumerate(train_loader):\n",
    "            image = data[0].to(device)\n",
    "            label = data[1].to(device)\n",
    "\n",
    "            optimizer.zero_grad()\n",
    "\n",
    "            pred = model(image)\n",
    "\n",
    "            loss = F.nll_loss(pred, label)\n",
    "\n",
    "            loss.backward()\n",
    "            optimizer.step()\n",
    "\n",
    "            if i % 100 == 0:\n",
    "                print(\"train epoch: {}, iter: {}, loss: {}\".format(epoch, i, loss.item()))\n",
    "\n",
    "    # Validation\n",
    "    total_loss = 0.\n",
    "    correct = 0.\n",
    "    with torch.no_grad():\n",
    "        with tqdm(total=len(val_loader)) as val_bar:\n",
    "            for i, data in enumerate(val_loader):\n",
    "                image = data[0].to(device)\n",
    "                label = data[1].to(device)\n",
    "\n",
    "                pred = model(image) # batch_size * 10\n",
    "\n",
    "                total_loss += F.nll_loss(pred, label, reduction='sum').item()\n",
    "                \n",
    "                output = pred.argmax(dim=1) # batch_size * 1\n",
    "                \n",
    "                correct += output.eq(label.view_as(output)).sum().item()\n",
    "\n",
    "\n",
    "    total_loss /= len_val\n",
    "    acc = correct / len_val * 100\n",
    "    print(\"test loss: {}, accuracy: {}\".format(total_loss, acc))\n",
    "\n",
    "\n",
    "torch.save(model.state_dict(), 'mnist_cnn.pt')\n",
    "\n",
    "\n",
    "\n",
    "\n",
    "\n"
   ]
  },
  {
   "cell_type": "code",
   "execution_count": null,
   "metadata": {},
   "outputs": [],
   "source": [
    "from PIL import Image\n",
    "\n",
    "path = r'C:\\Users\\Myth\\Desktop\\PYTHON\\netwerk\\MNIST\\Image\\imgs_train\\train\\0_2539.png'\n",
    "img = Image.open(path).convert('L')\n",
    "#img = cv2.imread(path,0)\n",
    "#img = torch.from_numpy(img)\n",
    "\n",
    "\n",
    "#img = img.reshape([1,1,28,28])\n",
    "#print(img.shape)\n",
    "\n",
    "image_to_tensor = T.ToTensor()\n",
    "img = image_to_tensor(img)\n",
    "print(img.shape)\n",
    "\n",
    "img = torch.unsqueeze(img,0)\n",
    "print(img.shape)\n",
    "img2 = torch.squeeze(img,1)\n",
    "print(img2.shape)"
   ]
  },
  {
   "cell_type": "code",
   "execution_count": null,
   "metadata": {},
   "outputs": [],
   "source": [
    "model = CNN()\n",
    "pred = model(img)\n",
    "pred"
   ]
  },
  {
   "cell_type": "code",
   "execution_count": null,
   "metadata": {},
   "outputs": [],
   "source": [
    "train_data=Data(datatxt=datapath, transform=T.ToTensor())"
   ]
  },
  {
   "cell_type": "code",
   "execution_count": null,
   "metadata": {},
   "outputs": [],
   "source": [
    "len(train_data)"
   ]
  },
  {
   "cell_type": "code",
   "execution_count": null,
   "metadata": {},
   "outputs": [],
   "source": []
  },
  {
   "cell_type": "code",
   "execution_count": null,
   "metadata": {},
   "outputs": [],
   "source": []
  }
 ],
 "metadata": {
  "kernelspec": {
   "display_name": "Python 3",
   "language": "python",
   "name": "python3"
  },
  "language_info": {
   "codemirror_mode": {
    "name": "ipython",
    "version": 3
   },
   "file_extension": ".py",
   "mimetype": "text/x-python",
   "name": "python",
   "nbconvert_exporter": "python",
   "pygments_lexer": "ipython3",
   "version": "3.7.6"
  }
 },
 "nbformat": 4,
 "nbformat_minor": 4
}
